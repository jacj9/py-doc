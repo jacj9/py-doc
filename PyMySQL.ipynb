{
 "cells": [
  {
   "cell_type": "code",
   "execution_count": 1,
   "id": "60297b4b",
   "metadata": {},
   "outputs": [
    {
     "name": "stdout",
     "output_type": "stream",
     "text": [
      "Collecting PyMySQL\n",
      "  Downloading PyMySQL-1.1.1-py3-none-any.whl (44 kB)\n",
      "Installing collected packages: PyMySQL\n",
      "Successfully installed PyMySQL-1.1.1\n",
      "Note: you may need to restart the kernel to use updated packages.\n"
     ]
    }
   ],
   "source": [
    "pip install PyMySQL"
   ]
  },
  {
   "cell_type": "code",
   "execution_count": 4,
   "id": "eaac3600",
   "metadata": {},
   "outputs": [],
   "source": [
    "import pymysql\n",
    "\n",
    "# Connect to the database\n",
    "connection = pymysql.connect(host='localhost',\n",
    "                             user='root',\n",
    "                             password='res103ns.2',\n",
    "                             database='vinylrecordshop')"
   ]
  },
  {
   "cell_type": "code",
   "execution_count": 5,
   "id": "161d13ed",
   "metadata": {},
   "outputs": [],
   "source": [
    "cursor = connection.cursor()"
   ]
  },
  {
   "cell_type": "code",
   "execution_count": 6,
   "id": "deac447c",
   "metadata": {},
   "outputs": [
    {
     "data": {
      "text/plain": [
       "23"
      ]
     },
     "execution_count": 6,
     "metadata": {},
     "output_type": "execute_result"
    }
   ],
   "source": [
    "cursor.execute(\"SELECT * FROM artist\")"
   ]
  },
  {
   "cell_type": "code",
   "execution_count": 7,
   "id": "518c0a25",
   "metadata": {},
   "outputs": [
    {
     "data": {
      "text/plain": [
       "((1, 'John', 'Lennon', 1),\n",
       " (2, 'Paul', 'McCartney', 1),\n",
       " (3, 'George', 'Harrison', 1),\n",
       " (4, 'Ringo', 'Starr', 1),\n",
       " (5, 'Denny', 'Zager', 0),\n",
       " (6, 'Rick', 'Evans', 0),\n",
       " (10, 'Van', 'Morrison', 1),\n",
       " (11, 'Judy', 'Collins', 0),\n",
       " (12, 'Paul', 'Simon', 1),\n",
       " (13, 'Art', 'Garfunkel', 0),\n",
       " (14, 'Brian', 'Wilson', 0),\n",
       " (15, 'Dennis', 'Wilson', 0),\n",
       " (16, 'Carl', 'Wilson', 0),\n",
       " (17, 'Ricky', 'Fataar', 0),\n",
       " (18, 'Blondie', 'Chaplin', 0),\n",
       " (19, 'Jimmy', 'Page', 0),\n",
       " (20, 'Robert', 'Plant', 0),\n",
       " (21, 'John Paul', 'Jones', 0),\n",
       " (22, 'John', 'Bonham', 0),\n",
       " (23, 'Mike ', 'Love', 0),\n",
       " (24, 'Al ', 'Jardine', 0),\n",
       " (25, 'David', 'Marks', 0),\n",
       " (26, 'Bruce ', 'Johnston', 0))"
      ]
     },
     "execution_count": 7,
     "metadata": {},
     "output_type": "execute_result"
    }
   ],
   "source": [
    "cursor.fetchall()"
   ]
  },
  {
   "cell_type": "code",
   "execution_count": null,
   "id": "0ca6471f",
   "metadata": {},
   "outputs": [],
   "source": []
  }
 ],
 "metadata": {
  "kernelspec": {
   "display_name": "Python 3 (ipykernel)",
   "language": "python",
   "name": "python3"
  },
  "language_info": {
   "codemirror_mode": {
    "name": "ipython",
    "version": 3
   },
   "file_extension": ".py",
   "mimetype": "text/x-python",
   "name": "python",
   "nbconvert_exporter": "python",
   "pygments_lexer": "ipython3",
   "version": "3.9.7"
  }
 },
 "nbformat": 4,
 "nbformat_minor": 5
}
