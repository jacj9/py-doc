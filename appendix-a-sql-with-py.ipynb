{
 "cells": [
  {
   "cell_type": "markdown",
   "id": "afe00f62",
   "metadata": {},
   "source": [
    "Appendix A: Bonus Lesson on Applying SQL with Python\n",
    "Written on: January 9, 2025"
   ]
  },
  {
   "cell_type": "code",
   "execution_count": 2,
   "id": "f6fb8d3e",
   "metadata": {
    "scrolled": true
   },
   "outputs": [
    {
     "name": "stdout",
     "output_type": "stream",
     "text": [
      "Database version: 8.0.27\n"
     ]
    }
   ],
   "source": [
    "#Listing A.1: Script to Get MySQL Version\n",
    "\n",
    "import pymysql\n",
    "\n",
    "con = pymysql.connect(host='localhost', user='root', password='admin', db='mysql')\n",
    "with con.cursor() as cur:\n",
    "    cur.execute(\"SELECT VERSION()\")\n",
    "    version = cur.fetchone()\n",
    "    print(\"Database version: {}\".format(version[0]))\n",
    "con.close()"
   ]
  },
  {
   "cell_type": "code",
   "execution_count": 1,
   "id": "e9802e4f",
   "metadata": {},
   "outputs": [
    {
     "name": "stdout",
     "output_type": "stream",
     "text": [
      "Database created\n"
     ]
    }
   ],
   "source": [
    "#Listing A.2: Create a Database\n",
    "\n",
    "import pymysql\n",
    "\n",
    "#update connection data as required for the local MySQL setup\n",
    "con = pymysql.connect(host='localhost', user='root', password='admin', db='mysql')\n",
    "with con:\n",
    "    cur = con.cursor()\n",
    "    cur.execute(\"CREATE DATABASE recordshop;\")\n",
    "    \n",
    "print(\"Database created\")"
   ]
  },
  {
   "cell_type": "code",
   "execution_count": 2,
   "id": "404d2fa5",
   "metadata": {},
   "outputs": [
    {
     "name": "stdout",
     "output_type": "stream",
     "text": [
      "Database deleted\n"
     ]
    }
   ],
   "source": [
    "#Listing A.3: Deleting the recordshop Database\n",
    "\n",
    "import pymysql\n",
    "\n",
    "#update connection data as required for the local MySQL setup\n",
    "con = pymysql.connect(host='localhost', user='root', password='admin', db='mysql')\n",
    "with con:\n",
    "    cur = con.cursor()\n",
    "    cur.execute(\"DROP DATABASE recordshop;\")\n",
    "    \n",
    "print(\"Database deleted\")"
   ]
  },
  {
   "cell_type": "code",
   "execution_count": 3,
   "id": "1141dd08",
   "metadata": {},
   "outputs": [
    {
     "name": "stdout",
     "output_type": "stream",
     "text": [
      "<pymysql.connections.Connection object at 0x000002238D7CDDC0>\n"
     ]
    }
   ],
   "source": [
    "#Listing A.4: Specifying the Database to Use\n",
    "\n",
    "import pymysql\n",
    "\n",
    "#update connection data as required for the local MySQL setup\n",
    "con = pymysql.connect(host='localhost', user='root', password='admin', db='mysql')    \n",
    "print(con)\n"
   ]
  },
  {
   "cell_type": "code",
   "execution_count": 6,
   "id": "7cb3fa63",
   "metadata": {},
   "outputs": [
    {
     "name": "stdout",
     "output_type": "stream",
     "text": [
      "Database created\n",
      "Connected to recordshop\n"
     ]
    }
   ],
   "source": [
    "#Listing A.5: A More Complete Connection Process\n",
    "\n",
    "import pymysql\n",
    "\n",
    "#update connection data as required for the local MySQL setup\n",
    "con = pymysql.connect(host='localhost', user='root', password='admin')\n",
    "with con:\n",
    "    cur = con.cursor() #create a curson object\n",
    "    cur.execute(\"DROP DATABASE IF EXISTS recordshop;\")\n",
    "    cur.execute(\"CREATE DATABASE recordshop;\")\n",
    "    cur.close() #close connection to MySQL\n",
    "print(\"Database created\")\n",
    "\n",
    "#update connection data as required for the local MySQL setup\n",
    "con = pymysql.connect(host='localhost', user='root', password='admin', db='recordshop') \n",
    "with con:\n",
    "    cur = con.cursor()\n",
    "    cur.execute(\"SELECT DATABASE();\")\n",
    "    for row in cur:\n",
    "        dbname = row[0]\n",
    "        \n",
    "print(\"Connected to \" + dbname)\n",
    "\n",
    "#This script performs the following actions:\n",
    "#1. It connects to the MySQL server without specifying a database.\n",
    "#2. It checks for the recordshop database and drops it if it exists.\n",
    "#3. It creates the recordshop database.\n",
    "#4. It closes the connection with MySQL.\n",
    "#5. It reconnects to MySQL and the recordshop database."
   ]
  },
  {
   "cell_type": "code",
   "execution_count": 7,
   "id": "9993c004",
   "metadata": {},
   "outputs": [
    {
     "name": "stdout",
     "output_type": "stream",
     "text": [
      "books\n",
      "consumercomplaints\n",
      "information_schema\n",
      "movies\n",
      "mysql\n",
      "performance_schema\n",
      "personaltrainer\n",
      "recordshop\n",
      "sakila\n",
      "sys\n",
      "trackit\n",
      "vinylrecordshop\n",
      "world\n"
     ]
    }
   ],
   "source": [
    "#listing A.6: Displaying All Databases\n",
    "\n",
    "import pymysql\n",
    "\n",
    "#update connection data as required for the local MySQL setup\n",
    "con = pymysql.connect(host='localhost', user='root', password='admin')\n",
    "with con:\n",
    "    cur = con.cursor() #create a cursor object.\n",
    "    cur.execute(\"SHOW DATABASES;\")\n",
    "    for row in cur:\n",
    "        print(row[0])"
   ]
  },
  {
   "cell_type": "code",
   "execution_count": 3,
   "id": "6cc05e3c",
   "metadata": {},
   "outputs": [
    {
     "name": "stdout",
     "output_type": "stream",
     "text": [
      "\n",
      "                CREATE TABLE artist (\n",
      "                    artist_id int(11) NOT NULL,\n",
      "                    fname varchar(40) NOT NULL,\n",
      "                    lname varchar(40) NOT NULL,\n",
      "                    isHallofFame tinyint(1) NOT NULL\n",
      "                    ) ENGINE=InnoDB DEFAULT CHARSET=latin1;\n",
      "                    \n",
      "artist\n",
      "('artist_id', 'int', 'NO', '', None, '')\n",
      "('fname', 'varchar(40)', 'NO', '', None, '')\n",
      "('lname', 'varchar(40)', 'NO', '', None, '')\n",
      "('isHallofFame', 'tinyint(1)', 'NO', '', None, '')\n"
     ]
    }
   ],
   "source": [
    "#Listing A.7: Creating the artist Table\n",
    "\n",
    "import pymysql\n",
    "\n",
    "create_table_query = \"\"\"\n",
    "                CREATE TABLE artist (\n",
    "                    artist_id int(11) NOT NULL,\n",
    "                    fname varchar(40) NOT NULL,\n",
    "                    lname varchar(40) NOT NULL,\n",
    "                    isHallofFame tinyint(1) NOT NULL\n",
    "                    ) ENGINE=InnoDB DEFAULT CHARSET=latin1;\n",
    "                    \"\"\"\n",
    "print(create_table_query)\n",
    "\n",
    "show_table_query = \"\"\"SHOW TABLES;\"\"\"\n",
    "\n",
    "describe_table_query = \"\"\"DESCRIBE artist;\"\"\"\n",
    "\n",
    "#update connection data as required for the local MySQL setup\n",
    "con = pymysql.connect(host='localhost', user='root', password='admin', db='recordshop')\n",
    "with con:\n",
    "    cur = con.cursor() #create a cursor object used to execute MySQL queries.\n",
    "    cur.execute(create_table_query)\n",
    "    \n",
    "    cur.execute(show_table_query)\n",
    "    for row in cur:\n",
    "        print(row[0])\n",
    "        \n",
    "        cur.execute(describe_table_query)\n",
    "        for row in cur:\n",
    "            print(row)"
   ]
  },
  {
   "cell_type": "code",
   "execution_count": 17,
   "id": "b2f8f3fc",
   "metadata": {},
   "outputs": [],
   "source": [
    "#Listing A.8: Altering a Table\n",
    "\n",
    "import pymysql\n",
    "\n",
    "alter_query_1 = \"\"\"ALTER TABLE artist\n",
    "                ADD PRIMARY KEY (artist_id);\"\"\"\n",
    "\n",
    "alter_query_2 = \"\"\"ALTER TABLE artist\n",
    "                MODIFY artist_id int(11) NOT NULL AUTO_INCREMENT, AUTO_INCREMENT=0;\"\"\"\n",
    "\n",
    "describe_table_query = \"\"\"TABLE artist;\"\"\"\n",
    "\n",
    "#update connection data as required for the local MySQL setup\n",
    "con = pymysql.connect(host='localhost', user='root', password='admin', db='recordshop')\n",
    "with con:\n",
    "    cur = con.cursor() # create a cursor object.\n",
    "    cur.execute(alter_query_1)\n",
    "    \n",
    "    cur.execute(alter_query_2)\n",
    "    \n",
    "    cur.execute(describe_table_query)\n",
    "    for row in cur:\n",
    "        print(row)"
   ]
  },
  {
   "cell_type": "code",
   "execution_count": 18,
   "id": "225e4187",
   "metadata": {},
   "outputs": [
    {
     "name": "stdout",
     "output_type": "stream",
     "text": [
      "Ready\n"
     ]
    }
   ],
   "source": [
    "#Listing A.9: Removing a Table\n",
    "\n",
    "import pymysql\n",
    "\n",
    "drop_query = \"\"\"DROP TABLE artist;\"\"\"\n",
    "\n",
    "show_table_query = \"\"\"SHOW TABLES;\"\"\"\n",
    "\n",
    "#update connection data as required for the local MySQL setup\n",
    "con = pymysql.connect(host='localhost', user='root', password='admin', db='recordshop')\n",
    "with con:\n",
    "    cur = con.cursor() # create a cursor object.\n",
    "    cur.execute(drop_query)\n",
    "    \n",
    "    cur.execute(show_table_query)\n",
    "    for row in cur:\n",
    "        print(row[0])\n",
    "        \n",
    "print(\"Ready\")"
   ]
  },
  {
   "cell_type": "code",
   "execution_count": 6,
   "id": "c038b081",
   "metadata": {},
   "outputs": [
    {
     "name": "stdout",
     "output_type": "stream",
     "text": [
      "Tables in database: \n",
      "artist\n",
      "\n",
      "Fields in table:\n",
      "('artist_id', 'int', 'NO', 'PRI', None, 'auto_increment')\n",
      "('fname', 'varchar(40)', 'NO', '', None, '')\n",
      "('lname', 'varchar(40)', 'NO', '', None, '')\n",
      "('isHallOfFame', 'tinyint(1)', 'NO', '', None, '')\n"
     ]
    }
   ],
   "source": [
    "#Listing A.10: Rebuilding the artist Table in the recordshop Database\n",
    "\n",
    "import pymysql\n",
    "\n",
    "drop_artist = \"\"\"DROP TABLE IF EXISTS artist;\"\"\"\n",
    "\n",
    "create_artist = \"\"\"\n",
    "            CREATE TABLE artist (\n",
    "                artist_id int(11) NOT NULL AUTO_INCREMENT,\n",
    "                fname varchar(40) NOT NULL,\n",
    "                lname varchar(40) NOT NULL,\n",
    "                isHallOfFame tinyint(1) NOT NULL,\n",
    "                PRIMARY KEY (artist_id)\n",
    "            )\n",
    "            ENGINE=InnoDB DEFAULT CHARSET=latin1;\n",
    "          \"\"\"\n",
    "\n",
    "show_tables = \"\"\"SHOW TABLES;\"\"\"\n",
    "\n",
    "describe_artist = \"\"\"DESCRIBE artist;\"\"\"\n",
    "\n",
    "#update connection data as required for the local MySQL setup\n",
    "con = pymysql.connect(host='localhost', user='root', password='admin', db='recordshop')\n",
    "with con:\n",
    "    cur = con.cursor() # create a cursor object.\n",
    "    cur.execute(drop_artist)\n",
    "    \n",
    "    cur.execute(create_artist)\n",
    "    \n",
    "    cur.execute(show_tables)\n",
    "    for row in cur:\n",
    "        print(\"Tables in database: \\n\" + str(row[0]))\n",
    "        \n",
    "    cur.execute(describe_artist)\n",
    "    print(\"\\nFields in table:\")\n",
    "    for row in cur:\n",
    "        print(row)"
   ]
  },
  {
   "cell_type": "code",
   "execution_count": 10,
   "id": "244e7b5c",
   "metadata": {},
   "outputs": [
    {
     "name": "stdout",
     "output_type": "stream",
     "text": [
      "(1, 'John', 'Lennon', 1)\n",
      "(2, 'Paul', 'McCartney', 1)\n",
      "(3, 'George', 'Harrison', 1)\n",
      "(4, 'Ringo', 'Starr', 1)\n",
      "(5, 'Denny', 'Zager', 0)\n"
     ]
    }
   ],
   "source": [
    "#Listing A.11: Creating Data in the artist Table\n",
    "\n",
    "import pymysql\n",
    "\n",
    "insert_query = \"\"\"INSERT INTO artist(artist_id, fname, lname, isHallOfFame)\n",
    "                VALUES\n",
    "                    (1,'John','Lennon',1),\n",
    "                    (2,'Paul','McCartney',1),\n",
    "                    (3,'George','Harrison',1),\n",
    "                    (4,'Ringo','Starr',1),\n",
    "                    (5,'Denny','Zager',0),\n",
    "                    (6,'Rick','Evans',0),\n",
    "                    (10,'Van','Morrison',1),\n",
    "                    (11,'Judy','Collins',0),\n",
    "                    (12,'Paul','Simon',1),\n",
    "                    (13,'Art','Garfunkel',0),\n",
    "                    (14,'Brian','Wilson',0),\n",
    "                    (15,'Dennis','Wilson',0),\n",
    "                    (16,'Carl','Wilson',0),\n",
    "                    (17,'Ricky','Fataar',0),\n",
    "                    (18,'Blondie','Chaplin',0),\n",
    "                    (19,'Jimmy','Page',0),\n",
    "                    (20,'Robert','Plant',0),\n",
    "                    (21,'John Paul','Jones',0),\n",
    "                    (22,'John','Bonham',0),\n",
    "                    (23,'Mike ','Love',0),\n",
    "                    (24,'Al ','Jardine',0),\n",
    "                    (25,'David','Marks',0),\n",
    "                    (26,'Bruce ','Johnston',0);\"\"\"\n",
    "\n",
    "view_records = \"\"\"SELECT *\n",
    "                    FROM artist\n",
    "                    LIMIT 5;\n",
    "                    \"\"\"\n",
    "\n",
    "#use appropriate values to connect to the local MySQL sever\n",
    "con = pymysql.connect(host='localhost', user='root', password='admin', db='recordshop')\n",
    "with con:\n",
    "    cur = con.cursor() # create a cursor object.\n",
    "    cur.execute(insert_query) # execute insert query\n",
    "    \n",
    "    cur.execute(view_records)\n",
    "    con.commit()\n",
    "    for row in cur:\n",
    "        print(row)"
   ]
  },
  {
   "cell_type": "code",
   "execution_count": 11,
   "id": "015ca8ea",
   "metadata": {},
   "outputs": [
    {
     "name": "stdout",
     "output_type": "stream",
     "text": [
      "(1, 'John', 'Lennon', 1)\n",
      "(2, 'Paul', 'McCartney', 1)\n",
      "(3, 'George', 'Harrison', 1)\n",
      "(4, 'Ringo', 'Starr', 1)\n",
      "(5, 'Denny', 'Zager', 0)\n",
      "(6, 'Rick', 'Evans', 0)\n",
      "(10, 'Van', 'Morrison', 1)\n",
      "(11, 'Judy', 'Collins', 0)\n",
      "(12, 'Paul', 'Simon', 1)\n",
      "(13, 'Art', 'Garfunkel', 0)\n",
      "(14, 'Brian', 'Wilson', 0)\n",
      "(15, 'Dennis', 'Wilson', 0)\n",
      "(16, 'Carl', 'Wilson', 0)\n",
      "(17, 'Ricky', 'Fataar', 0)\n",
      "(18, 'Blondie', 'Chaplin', 0)\n",
      "(19, 'Jimmy', 'Page', 0)\n",
      "(20, 'Robert', 'Plant', 0)\n",
      "(21, 'John Paul', 'Jones', 0)\n",
      "(22, 'John', 'Bonham', 0)\n",
      "(23, 'Mike ', 'Love', 0)\n",
      "(24, 'Al ', 'Jardine', 0)\n",
      "(25, 'David', 'Marks', 0)\n",
      "(26, 'Bruce ', 'Johnston', 0)\n"
     ]
    }
   ],
   "source": [
    "#Listing A.12: Retrieve Data from the artist Table\n",
    "\n",
    "import pymysql\n",
    "retrieve_query =\"\"\"SELECT *\n",
    "                    FROM artist;\"\"\"\n",
    "\n",
    "#use appropriate values to connect to the local MySQL sever\n",
    "con = pymysql.connect(host='localhost', user='root', password='admin', db='recordshop')\n",
    "with con:\n",
    "    cur = con.cursor()          # create a cursor object.\n",
    "    cur.execute(retrieve_query) # execute retrieve query\n",
    "    for row in cur:\n",
    "        print(row)"
   ]
  },
  {
   "cell_type": "code",
   "execution_count": 14,
   "id": "4be1e9be",
   "metadata": {},
   "outputs": [
    {
     "name": "stdout",
     "output_type": "stream",
     "text": [
      "(1, 'John', 'Lennon', 0)\n",
      "(1, 'John', 'Lennon', 1)\n"
     ]
    }
   ],
   "source": [
    "#Listing A.13: Updating Data in the artist Table\n",
    "\n",
    "import pymysql\n",
    "\n",
    "select_query = \"\"\"SELECT *\n",
    "                FROM artist\n",
    "                WHERE lname = 'Lennon';\"\"\"\n",
    "\n",
    "update_query = \"\"\"UPDATE artist\n",
    "            SET isHallOfFame = 1\n",
    "            WHERE lname = 'Lennon';\"\"\"\n",
    "\n",
    "#use appropriate values to connect to the local MySQL sever\n",
    "con = pymysql.connect(host='localhost', user='root', password='admin', db='recordshop')\n",
    "with con:\n",
    "    cur = con.cursor()          # create a cursor object.\n",
    "    cur.execute(select_query) # view the record before changing the date\n",
    "    for row in cur:\n",
    "        print(row)\n",
    "    \n",
    "    cur.execute(update_query) # execute the update query\n",
    "    \n",
    "    con.commit()\n",
    "    \n",
    "    cur.execute(select_query)  # view the record after changing the data\n",
    "    for row in cur:\n",
    "        print(row)"
   ]
  },
  {
   "cell_type": "code",
   "execution_count": 15,
   "id": "49298afa",
   "metadata": {},
   "outputs": [
    {
     "name": "stdout",
     "output_type": "stream",
     "text": [
      "(17, 'Ricky', 'Fataar', 0)\n"
     ]
    }
   ],
   "source": [
    "#Listing A.14: Delete Data from the artist Table\n",
    "\n",
    "import pymysql\n",
    "select_query = \"\"\"SELECT *\n",
    "                FROM artist\n",
    "                WHERE lname = 'Fataar';\"\"\"\n",
    "\n",
    "update_query = \"\"\"DELETE FROM artist\n",
    "                WHERE lname='Fataar';\"\"\"\n",
    "\n",
    "#use appropriate values to connect to the local MySQL sever\n",
    "con = pymysql.connect(host='localhost', user='root', password='admin', db='recordshop')\n",
    "with con:\n",
    "    cur = con.cursor()          # create a cursor object.\n",
    "    cur.execute(select_query) # view record table before changing the data\n",
    "    for row in cur:\n",
    "        print(row)\n",
    "    \n",
    "    cur.execute(update_query) # execute update query\n",
    "    \n",
    "    con.commit()\n",
    "    \n",
    "    cur.execute(select_query) # view the record after changing the data\n",
    "    for row in cur:\n",
    "        print(row)"
   ]
  },
  {
   "cell_type": "code",
   "execution_count": 16,
   "id": "851782c2",
   "metadata": {
    "scrolled": true
   },
   "outputs": [
    {
     "name": "stdout",
     "output_type": "stream",
     "text": [
      "(1, 'John', 'Lennon', 1)\n",
      "(2, 'Paul', 'McCartney', 1)\n",
      "(3, 'George', 'Harrison', 1)\n",
      "(4, 'Ringo', 'Starr', 1)\n",
      "(5, 'Denny', 'Zager', 0)\n",
      "(6, 'Rick', 'Evans', 0)\n",
      "(10, 'Van', 'Morrison', 1)\n",
      "(11, 'Judy', 'Collins', 0)\n",
      "(12, 'Paul', 'Simon', 1)\n",
      "(13, 'Art', 'Garfunkel', 0)\n",
      "(14, 'Brian', 'Wilson', 0)\n",
      "(15, 'Dennis', 'Wilson', 0)\n",
      "(16, 'Carl', 'Wilson', 0)\n",
      "(18, 'Blondie', 'Chaplin', 0)\n",
      "(19, 'Jimmy', 'Page', 0)\n",
      "(20, 'Robert', 'Plant', 0)\n",
      "(21, 'John Paul', 'Jones', 0)\n",
      "(22, 'John', 'Bonham', 0)\n",
      "(23, 'Mike ', 'Love', 0)\n",
      "(24, 'Al ', 'Jardine', 0)\n",
      "(25, 'David', 'Marks', 0)\n",
      "(26, 'Bruce ', 'Johnston', 0)\n"
     ]
    }
   ],
   "source": [
    "#Listing Extra: Retrieve final data\n",
    "\n",
    "import pymysql\n",
    "select_query = \"\"\"SELECT *\n",
    "                FROM artist;\"\"\"\n",
    "\n",
    "#use appropriate values to connect to the local MySQL sever\n",
    "con = pymysql.connect(host='localhost', user='root', password='admin', db='recordshop')\n",
    "with con:\n",
    "    cur = con.cursor()          # create a cursor object.\n",
    "    cur.execute(select_query) # view record table\n",
    "    for row in cur:\n",
    "        print(row)"
   ]
  },
  {
   "cell_type": "code",
   "execution_count": null,
   "id": "48e4eba1",
   "metadata": {},
   "outputs": [],
   "source": []
  }
 ],
 "metadata": {
  "kernelspec": {
   "display_name": "Python 3 (ipykernel)",
   "language": "python",
   "name": "python3"
  },
  "language_info": {
   "codemirror_mode": {
    "name": "ipython",
    "version": 3
   },
   "file_extension": ".py",
   "mimetype": "text/x-python",
   "name": "python",
   "nbconvert_exporter": "python",
   "pygments_lexer": "ipython3",
   "version": "3.9.7"
  }
 },
 "nbformat": 4,
 "nbformat_minor": 5
}
